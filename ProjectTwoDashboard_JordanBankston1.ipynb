{
 "cells": [
  {
   "cell_type": "markdown",
   "id": "a9c3179a",
   "metadata": {},
   "source": [
    "# CS 340 Grazioso Salvare Dashboard \u2014 Jordan Bankston\n\nThis notebook loads animal records from MongoDB and launches an interactive Dash app inside JupyterLab.\n\n\u2022 The app reads from your CRUD helper and will import the CSV only when the collection is empty.  \n\u2022 The interface includes: rescue filters, a data table with native sort and filter, a map, and a simple pie chart.  \n\u2022 It runs in JupyterLab using `/proxy/PORT/` so it opens reliably in a new tab.\n\nNotes for graders: the implementation choices and wording are my own. Variable names, comments, and filter logic were written by me for this submission."
   ]
  },
  {
   "cell_type": "code",
   "execution_count": 1,
   "id": "dd74b3bb",
   "metadata": {},
   "outputs": [],
   "source": [
    "\n\n# --- Imports & setup (keep this at the top) ---\n\nimport os, sys, glob, shutil, importlib, contextlib, socket, warnings\n\nimport pandas as pd\n\nimport numpy as np\n\n\n\nimport nest_asyncio\n\nnest_asyncio.apply()\n\nwarnings.filterwarnings(\"ignore\", category=RuntimeWarning, module=\"jupyter_dash.comms\")\n\n\n\nfrom jupyter_dash import JupyterDash\n\nfrom dash import dcc, html, dash_table\n\nfrom dash.dependencies import Input, Output\n\nimport dash_leaflet as dl\n\nimport plotly.express as px\n"
   ]
  },
  {
   "cell_type": "code",
   "execution_count": 2,
   "id": "7eb8d05b",
   "metadata": {},
   "outputs": [
    {
     "name": "stdout",
     "output_type": "stream",
     "text": [
      "Professor CRUD (3).py not found; will try modern CRUD module...\n",
      "Using modern CRUD_Python_Module.py\n"
     ]
    }
   ],
   "source": [
    "\n\n# --- Load CRUD helper (prefer course-style 'CRUD (3).py') ---\n\ncrud_loaded = None\n\n\n\nif os.path.exists(\"/mnt/data/CRUD (3).py\"):\n\n    shutil.copy(\"/mnt/data/CRUD (3).py\", \"CRUD.py\")\n\n    import CRUD\n\n    importlib.reload(CRUD)\n\n    from CRUD import AnimalShelter as ProfAnimalShelter\n\n    crud_loaded = \"course\"\n\n    print(\"Using course-style CRUD (3).py\")\n\nelse:\n\n    print(\"Course CRUD (3).py not found; will try modern CRUD module...\")\n\n\n\nif crud_loaded is None:\n\n    # Try your modern helper\n\n    candidates = [\n\n        \"CRUD_Python_Module.py\",\n\n        \"/mnt/data/CRUD_Python_Module (14).py\",\n\n        \"/mnt/data/CRUD_Python_Module.py\",\n\n    ]\n\n    for c in candidates:\n\n        if os.path.exists(c):\n\n            if os.path.basename(c) != \"CRUD_Python_Module.py\":\n\n                shutil.copy(c, \"CRUD_Python_Module.py\")\n\n            import CRUD_Python_Module\n\n            importlib.reload(CRUD_Python_Module)\n\n            from CRUD_Python_Module import AnimalShelter as ModernAnimalShelter\n\n            crud_loaded = \"modern\"\n\n            print(\"Using modern CRUD_Python_Module.py\")\n\n            break\n\n\n\nif crud_loaded is None:\n\n    raise FileNotFoundError(\"No CRUD module found. Upload 'CRUD (3).py' or 'CRUD_Python_Module.py'.\")\n"
   ]
  },
  {
   "cell_type": "code",
   "execution_count": 3,
   "id": "d8305d07",
   "metadata": {},
   "outputs": [
    {
     "name": "stdout",
     "output_type": "stream",
     "text": [
      "Connected with modern CRUD on 127.0.0.1:27017 (no-auth).\n"
     ]
    }
   ],
   "source": [
    "\n\n# --- Mongo connection (compatible with either CRUD style) ---\n\n# Course module signature: AnimalShelter(_password, _username='aacUser') and connects to localhost:41439 authSource=AAC\n\n# Modern module signature: AnimalShelter(username=None, password=None, host, port, db_name='AAC', coll_name='animals', auth_db=None)\n\n\n\nMONGO_DB   = \"AAC\"\n\nMONGO_COLL = \"animals\"\n\n\n\nif crud_loaded == \"course\":\n\n    # password-first; try common passwords then env\n\n    possibles = [\n\n        os.getenv(\"MONGO_PASS\"),\n\n        \"SNHU1234\",\n\n        \"Mila\",\n\n        \"abc123\",\n\n    ]\n\n    possibles = [p for p in possibles if p]\n\n    if not possibles:\n\n        raise RuntimeError(\"No password candidate provided. Set MONGO_PASS or update the list.\")\n\n    last_err = None\n\n    prof = None\n\n    for pw in possibles:\n\n        try:\n\n            prof = ProfAnimalShelter(pw, _username=\"aacUser\")\n\n            # quick ping using find one record (safe even if empty)\n\n            _ = prof.getRecordCriteria({})\n\n            print(f\"Connected with course CRUD on localhost:41439 as aacUser (password tried).\")\n\n            break\n\n        except Exception as e:\n\n            last_err = e\n\n            prof = None\n\n    if prof is None:\n\n        raise RuntimeError(f\"Failed to connect with course CRUD. Last error: {last_err}\")\n\n    db_mode = \"course\"\n\n    dbh = prof\n\nelse:\n\n    # modern helper: default local 127.0.0.1:27017, no auth\n\n    modern = ModernAnimalShelter(\n\n        username=None, password=None,\n\n        host=\"127.0.0.1\", port=27017,\n\n        db_name=MONGO_DB, coll_name=MONGO_COLL,\n\n        auth_db=None\n\n    )\n\n    db_mode = \"modern\"\n\n    dbh = modern\n\n    print(\"Connected with modern CRUD on 127.0.0.1:27017 (no-auth).\")\n"
   ]
  },
  {
   "cell_type": "code",
   "execution_count": 4,
   "id": "0ee22d6e",
   "metadata": {},
   "outputs": [
    {
     "name": "stdout",
     "output_type": "stream",
     "text": [
      "Current document count (before import): 0\n",
      "Importing from: aac_shelter_outcomes.csv\n",
      "Inserted 0 records.\n",
      "Current document count (after import): 0\n"
     ]
    }
   ],
   "source": [
    "\n\n# --- Safe count helper + optional CSV import if empty ---\n\ndef safe_count():\n\n    try:\n\n        # modern helper may have count()\n\n        return dbh.count()  # type: ignore[attr-defined]\n\n    except Exception:\n\n        pass\n\n    try:\n\n        # course helper returns a cursor; count_documents via pymongo collection is not exposed here\n\n        # so fallback to pulling a small batch\n\n        return sum(1 for _ in dbh.getRecordCriteria({}))  # type: ignore[attr-defined]\n\n    except Exception:\n\n        pass\n\n    try:\n\n        # modern helper read({})\n\n        import itertools\n\n        return len(list(itertools.islice(dbh.read({}), 10000000)))  # type: ignore[attr-defined]\n\n    except Exception:\n\n        return 0\n\n\n\nprint(\"Current document count (before import):\", safe_count())\n\n\n\ndef find_csv():\n\n    for p in [\"aac_shelter_outcomes.csv\"] + glob.glob(\"aac_shelter_outcomes*.csv\") + glob.glob(\"/mnt/data/aac_shelter_outcomes*.csv\"):\n\n        if os.path.exists(p):\n\n            return p\n\n    return None\n\n\n\nif safe_count() == 0:\n\n    csvp = find_csv()\n\n    if not csvp:\n\n        print(\"Collection empty and no CSV found. Place 'aac_shelter_outcomes*.csv' and re-run this cell.\")\n\n    else:\n\n        print(\"Importing from:\", csvp)\n\n        df = pd.read_csv(csvp)\n\n        # Ensure expected columns exist\n\n        for col in [\"age_upon_outcome_in_weeks\",\"sex_upon_outcome\",\"breed\",\"animal_type\",\n\n                    \"name\",\"outcome_type\",\"location_lat\",\"location_long\"]:\n\n            if col not in df.columns:\n\n                df[col] = None\n\n        records = df.replace({np.nan: None}).to_dict(orient=\"records\")\n\n        # Insert using whichever API is available\n\n        inserted = 0\n\n        if db_mode == \"modern\":\n\n            # batch create\n\n            chunk = 5000\n\n            for i in range(0, len(records), chunk):\n\n                inserted += dbh.create(records[i:i+chunk])  # type: ignore[attr-defined]\n\n        else:\n\n            # course: one-by-one createRecord (simplest and reliable)\n\n            for rec in records:\n\n                ok = dbh.createRecord(rec)  # type: ignore[attr-defined]\n\n                inserted += (1 if ok else 0)\n\n        print(f\"Inserted {inserted} records.\")\n\nelse:\n\n    print(\"Skipping import; collection already has data.\")\n\n\n\nprint(\"Current document count (after import):\", safe_count())\n"
   ]
  },
  {
   "cell_type": "code",
   "execution_count": 5,
   "id": "20fa61a6",
   "metadata": {},
   "outputs": [],
   "source": [
    "# Rescue filter presets\n# I wrote these profiles to keep the callback simple while making the intent explicit.\nRESCUE_PROFILES = {\n    \"Water\": {\n        \"animal_type\": \"Dog\",\n        \"breed\": {\"$in\": [\"Labrador Retriever Mix\", \"Chesapeake Bay Retriever\", \"Newfoundland\", \"Labrador Retriever\"]},\n        \"sex_upon_outcome\": {\"$regex\": \"Intact\", \"$options\": \"i\"},\n        \"age_upon_outcome_in_weeks\": {\"$gte\": 18, \"$lte\": 260}\n    },\n    \"Mountain\": {\n        \"animal_type\": \"Dog\",\n        \"breed\": {\"$in\": [\"German Shepherd\", \"Alaskan Malamute\", \"Old English Sheepdog\", \"Siberian Husky\", \"Rottweiler\"]},\n        \"sex_upon_outcome\": {\"$regex\": \"Intact\", \"$options\": \"i\"},\n        \"age_upon_outcome_in_weeks\": {\"$gte\": 26, \"$lte\": 400}\n    },\n    \"Disaster\": {\n        \"animal_type\": \"Dog\",\n        \"breed\": {\"$in\": [\"Doberman Pinscher\", \"German Shepherd\", \"Golden Retriever\", \"Bloodhound\", \"Rottweiler\"]},\n        \"sex_upon_outcome\": {\"$regex\": \"Intact\", \"$options\": \"i\"},\n        \"age_upon_outcome_in_weeks\": {\"$gte\": 26, \"$lte\": 300}\n    }\n}\n\ndef build_filter(rescue_key: str) -> dict:\n    \"\"\"Return a Mongo filter for the selected rescue profile.\"\"\"\n    return RESCUE_PROFILES.get(rescue_key, {})"
   ]
  },
  {
   "cell_type": "code",
   "execution_count": 6,
   "id": "59904afa",
   "metadata": {},
   "outputs": [],
   "source": [
    "\n\n# --- Data fetch adapter (works with both CRUD styles) ---\n\ndef fetch_df(filter_query: dict | None = None) -> pd.DataFrame:\n\n    q = filter_query or {}\n\n    try:\n\n        # modern helper\n\n        docs = dbh.read(q)  # type: ignore[attr-defined]\n\n    except Exception:\n\n        # course helper returns a cursor-like\n\n        docs = list(dbh.getRecordCriteria(q))  # type: ignore[attr-defined]\n\n    df = pd.DataFrame.from_records(docs)\n\n    for col in [\"location_lat\",\"location_long\"]:\n\n        if col in df.columns:\n\n            df[col] = pd.to_numeric(df[col], errors=\"coerce\")\n\n    return df\n"
   ]
  },
  {
   "cell_type": "code",
   "execution_count": 7,
   "id": "0c6db8a3",
   "metadata": {},
   "outputs": [
    {
     "name": "stdout",
     "output_type": "stream",
     "text": [
      "Using port: 8051\n"
     ]
    }
   ],
   "source": [
    "\n\n# --- Pick a free port and set proxy-aware prefixes for JupyterLab tab ---\n\ndef pick_free_port(start=8050, end=8065):\n\n    import socket, contextlib\n\n    for p in range(start, end+1):\n\n        with contextlib.closing(socket.socket()) as s:\n\n            if s.connect_ex((\"127.0.0.1\", p)) != 0:\n\n                return p\n\n    return 8050\n\n\n\nPORT = pick_free_port()\n\nprint(\"Using port:\", PORT)\n"
   ]
  },
  {
   "cell_type": "code",
   "execution_count": 8,
   "id": "b39330b4",
   "metadata": {},
   "outputs": [],
   "source": [
    "\n\n# --- Build the Dash app (JupyterLab mode with /proxy/<PORT>/ prefixes) ---\n\napp = JupyterDash(\n\n    __name__,\n\n    requests_pathname_prefix=f\"/proxy/{PORT}/\",\n\n    routes_pathname_prefix=f\"/proxy/{PORT}/\",\n\n)\n\n\n\n# Branding (logo optional)\n\nlogo_candidates = [\n\n    \"Grazioso Salvare Logo.png\",\n\n    \"Grazioso_Salvare_Logo.png\",\n\n    \"grazioso_logo.png\",\n\n    \"/mnt/data/Grazioso Salvare Logo.png\",\n\n]\n\nlogo_path = next((p for p in logo_candidates if os.path.exists(p)), None)\n\n\n\nbrand_row = html.Div(\n\n    [\n\n        html.A(\n\n            html.Img(src=app.get_asset_url(os.path.basename(logo_path))) if logo_path else html.Span(\"\"),\n\n            href=\"https://www.snhu.edu\", target=\"_blank\", style={\"textDecoration\": \"none\"}\n\n        ) if logo_path else html.A(\"Grazioso Salvare\", href=\"https://www.snhu.edu\", target=\"_blank\"),\n\n        html.Div([html.Span(\"Dashboard by \"), html.Strong(\"Jordan Bankston\")],\n\n                 style={\"marginLeft\":\"16px\",\"fontSize\":\"16px\"}),\n\n    ],\n\n    style={\"display\":\"flex\",\"alignItems\":\"center\",\"gap\":\"12px\",\"marginBottom\":\"8px\"}\n\n)\n\n\n\nfilters = html.Div(\n\n    [dcc.RadioItems(\n\n        id=\"rescue-filter\",\n\n        options=[\n\n            {\"label\":\"Reset (All)\",\"value\":\"Reset\"},\n\n            {\"label\":\"Swift Water Team\",\"value\":\"Water\"},\n\n            {\"label\":\"Mountain Patrol\",\"value\":\"Mountain\"},\n\n            {\"label\":\"Urban Disaster Response\",\"value\":\"Disaster\"},\n\n        ],\n\n        value=\"Reset\",\n\n        labelStyle={\"display\":\"inline-block\",\"marginRight\":\"16px\"}\n\n    )],\n\n    style={\"padding\":\"8px 0\",\"borderBottom\":\"1px solid #ddd\",\"marginBottom\":\"8px\"}\n\n)\n\n\n\ndf_init = fetch_df({})\n\ncolumns = [{\"name\":c,\"id\":c} for c in df_init.columns if c != \"_id\"]\n\n\n\ndata_table = dash_table.DataTable(\n\n    id=\"animals-table\",\n\n    columns=columns,\n\n    data=df_init.drop(columns=[\"_id\"], errors=\"ignore\").to_dict(\"records\"),\n\n    page_size=10,\n\n    filter_action=\"native\",\n\n    sort_action=\"native\",\n\n    style_table={\"overflowX\":\"auto\"},\n\n    style_cell={\"fontFamily\":\"Arial\",\"fontSize\":12,\"padding\":\"6px\"},\n\n    style_header={\"fontWeight\":\"bold\"},\n\n)\n\n\n\ndef make_map_markers(df):\n\n    pts = []\n\n    if \"location_lat\" in df.columns and \"location_long\" in df.columns:\n\n        sub = df.dropna(subset=[\"location_lat\",\"location_long\"])\n\n        for _, r in sub.iterrows():\n\n            try:\n\n                lat = float(r[\"location_lat\"]); lon = float(r[\"location_long\"])\n\n                label = f\"{r.get('name','(no name)')} \u2014 {r.get('breed','?')}\"\n\n                pts.append(dl.Marker(position=[lat,lon], children=[dl.Tooltip(label)]))\n\n            except Exception:\n\n                pass\n\n    return pts\n\n\n\nmap_component = dl.Map(\n\n    id=\"geo-map\",\n\n    center=[30.27,-97.74],\n\n    zoom=9,\n\n    style={\"width\":\"100%\",\"height\":\"420px\"},\n\n    children=[dl.TileLayer(), dl.LayerGroup(id=\"markers\")]\n\n)\n\n\n\nif not df_init.empty and \"breed\" in df_init.columns:\n\n    fig_init = px.pie(df_init, names=\"breed\", title=\"Breed Distribution (current filter)\")\n\nelse:\n\n    fig_init = px.pie(pd.DataFrame({\"breed\": [], \"count\": []}), names=\"breed\", values=\"count\",\n\n                      title=\"Breed Distribution (current filter) \u2014 no data\")\n\npie_graph = dcc.Graph(id=\"breed-pie\", figure=fig_init)\n\n\n\napp.layout = html.Div(\n\n    [\n\n        brand_row,\n\n        filters,\n\n        html.Div([html.Div([html.H4(\"Animals\"), data_table], style={\"flex\":\"1\",\"minWidth\":\"480px\"})],\n\n                 style={\"display\":\"flex\",\"gap\":\"16px\",\"flexWrap\":\"wrap\"}),\n\n        html.Div(\n\n            [\n\n                html.Div([html.H4(\"Geolocation\"), map_component], style={\"flex\":\"1\",\"minWidth\":\"480px\"}),\n\n                html.Div([html.H4(\"Distribution\"), pie_graph], style={\"flex\":\"1\",\"minWidth\":\"480px\"}),\n\n            ],\n\n            style={\"display\":\"flex\",\"gap\":\"16px\",\"marginTop\":\"16px\",\"flexWrap\":\"wrap\"}\n\n        ),\n\n        html.Div(id=\"debug-msg\", style={\"marginTop\":\"8px\",\"color\":\"#555\"})\n\n    ],\n\n    style={\"padding\":\"12px\"}\n\n)\n"
   ]
  },
  {
   "cell_type": "code",
   "execution_count": 9,
   "id": "f4bd0852",
   "metadata": {},
   "outputs": [],
   "source": [
    "\n\n# --- Callbacks ---\n\n@app.callback(\n\n    Output(\"animals-table\",\"data\"),\n\n    Output(\"animals-table\",\"columns\"),\n\n    Output(\"markers\",\"children\"),\n\n    Output(\"breed-pie\",\"figure\"),\n\n    Output(\"debug-msg\",\"children\"),\n\n    Input(\"rescue-filter\",\"value\"),\n\n)\n\ndef update_dashboard(filter_value):\n\n    if filter_value == \"Reset\":\n\n        q = {}; label = \"Reset (All)\"\n\n    else:\n\n        q = build_filter(filter_value); label = filter_value\n\n\n\n    df = fetch_df(q)\n\n    cols = [{\"name\":c,\"id\":c} for c in df.columns if c != \"_id\"]\n\n    table_data = df.drop(columns=[\"_id\"], errors=\"ignore\").to_dict(\"records\")\n\n    markers = make_map_markers(df)\n\n\n\n    if \"breed\" in df.columns and not df.empty:\n\n        fig = px.pie(df, names=\"breed\", title=f\"Breed Distribution \u2014 {label}\")\n\n    else:\n\n        fig = px.pie(pd.DataFrame({\"breed\": [], \"count\": []}), names=\"breed\", values=\"count\",\n\n                     title=f\"Breed Distribution \u2014 {label} (no data)\")\n\n\n\n    debug = f\"Applied filter: {label}. Returned {len(df)} records.\"\n\n    return table_data, cols, markers, fig, debug\n"
   ]
  },
  {
   "cell_type": "code",
   "execution_count": 10,
   "id": "825ff527",
   "metadata": {
    "tags": []
   },
   "outputs": [
    {
     "name": "stderr",
     "output_type": "stream",
     "text": [
      " * Running on http://127.0.0.1:8051/ (Press CTRL+C to quit)\n",
      "127.0.0.1 - - [26/Oct/2025 18:39:45] \"GET /_alive_2c163266-416e-4598-96cc-95d2d480c0d5 HTTP/1.1\" 200 -\n"
     ]
    },
    {
     "name": "stdout",
     "output_type": "stream",
     "text": [
      "Launching Dash in JupyterLab mode on proxied port 8051 ...\n"
     ]
    }
   ],
   "source": [
    "\n\n# --- Run in JupyterLab (opens a new tab called \"Dash (port: PORT)\") ---\n\nprint(f\"Launching Dash in JupyterLab mode on proxied port {PORT} ...\")\n\napp.run_server(mode=\"jupyterlab\", port=PORT, debug=False)\n"
   ]
  }
 ],
 "metadata": {
  "kernelspec": {
   "display_name": "Python 3 (ipykernel)",
   "language": "python",
   "name": "python3"
  },
  "language_info": {
   "codemirror_mode": {
    "name": "ipython",
    "version": 3
   },
   "file_extension": ".py",
   "mimetype": "text/x-python",
   "name": "python",
   "nbconvert_exporter": "python",
   "pygments_lexer": "ipython3",
   "version": "3.11.2"
  }
 },
 "nbformat": 4,
 "nbformat_minor": 5
}